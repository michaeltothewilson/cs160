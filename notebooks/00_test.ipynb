{
 "cells": [
  {
   "cell_type": "markdown",
   "id": "3c3f37d9-04ca-4fc7-afb5-5d2ec9284bba",
   "metadata": {},
   "source": [
    "# First Notebook!"
   ]
  },
  {
   "cell_type": "code",
   "execution_count": null,
   "id": "95fb2710-82c1-492a-849b-c12ee44c6502",
   "metadata": {},
   "outputs": [],
   "source": []
  }
 ],
 "metadata": {
  "kernelspec": {
   "display_name": "Python 3 (ipykernel)",
   "language": "python",
   "name": "python3"
  },
  "language_info": {
   "codemirror_mode": {
    "name": "ipython",
    "version": 3
   },
   "file_extension": ".py",
   "mimetype": "text/x-python",
   "name": "python",
   "nbconvert_exporter": "python",
   "pygments_lexer": "ipython3",
   "version": "3.12.5"
  }
 },
 "nbformat": 4,
 "nbformat_minor": 5
}

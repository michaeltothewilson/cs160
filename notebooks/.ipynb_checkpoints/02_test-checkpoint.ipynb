{
 "cells": [
  {
   "cell_type": "markdown",
   "id": "3bcf479c-08c4-453a-a459-eba04670e9fc",
   "metadata": {},
   "source": [
    "# Third Notebook!"
   ]
  },
  {
   "cell_type": "code",
   "execution_count": null,
   "id": "f6fe205e-c5ef-4fb8-84db-60d8efa1317d",
   "metadata": {},
   "outputs": [],
   "source": []
  }
 ],
 "metadata": {
  "kernelspec": {
   "display_name": "Python 3 (ipykernel)",
   "language": "python",
   "name": "python3"
  },
  "language_info": {
   "codemirror_mode": {
    "name": "ipython",
    "version": 3
   },
   "file_extension": ".py",
   "mimetype": "text/x-python",
   "name": "python",
   "nbconvert_exporter": "python",
   "pygments_lexer": "ipython3",
   "version": "3.12.5"
  }
 },
 "nbformat": 4,
 "nbformat_minor": 5
}
